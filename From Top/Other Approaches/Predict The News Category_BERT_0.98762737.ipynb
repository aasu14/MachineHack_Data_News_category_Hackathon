{
 "cells": [
  {
   "cell_type": "code",
   "execution_count": 8,
   "metadata": {
    "_cell_guid": "b1076dfc-b9ad-4769-8c92-a6c4dae69d19",
    "_uuid": "8f2839f25d086af736a60e9eeb907d3b93b6e0e5"
   },
   "outputs": [
    {
     "name": "stdout",
     "output_type": "stream",
     "text": [
      "['predict the news category']\n"
     ]
    }
   ],
   "source": [
    "import pandas as pd\n",
    "import numpy as np\n",
    "import matplotlib.pyplot as plt\n",
    "import seaborn as sns\n",
    "sns.set_style('darkgrid')\n",
    "import os\n",
    "print(os.listdir(\"../input\"))\n",
    "import pathlib"
   ]
  },
  {
   "cell_type": "code",
   "execution_count": 12,
   "metadata": {},
   "outputs": [],
   "source": [
    "np.random.seed(1)"
   ]
  },
  {
   "cell_type": "code",
   "execution_count": 14,
   "metadata": {},
   "outputs": [],
   "source": [
    "train = pd.read_excel('../input/predict the news category/Data_Train.xlsx')\n",
    "test = pd.read_excel('../input/predict the news category/Data_Test.xlsx')\n",
    "sub = pd.read_excel('../input/predict the news category/Sample_submission.xlsx');"
   ]
  },
  {
   "cell_type": "code",
   "execution_count": 15,
   "metadata": {},
   "outputs": [
    {
     "data": {
      "text/plain": [
       "((7628, 2), (2748, 1))"
      ]
     },
     "execution_count": 15,
     "metadata": {},
     "output_type": "execute_result"
    }
   ],
   "source": [
    "train.shape, test.shape"
   ]
  },
  {
   "cell_type": "code",
   "execution_count": 16,
   "metadata": {},
   "outputs": [
    {
     "data": {
      "text/html": [
       "<div>\n",
       "<style scoped>\n",
       "    .dataframe tbody tr th:only-of-type {\n",
       "        vertical-align: middle;\n",
       "    }\n",
       "\n",
       "    .dataframe tbody tr th {\n",
       "        vertical-align: top;\n",
       "    }\n",
       "\n",
       "    .dataframe thead th {\n",
       "        text-align: right;\n",
       "    }\n",
       "</style>\n",
       "<table border=\"1\" class=\"dataframe\">\n",
       "  <thead>\n",
       "    <tr style=\"text-align: right;\">\n",
       "      <th></th>\n",
       "      <th>STORY</th>\n",
       "      <th>SECTION</th>\n",
       "    </tr>\n",
       "  </thead>\n",
       "  <tbody>\n",
       "    <tr>\n",
       "      <th>0</th>\n",
       "      <td>But the most painful was the huge reversal in ...</td>\n",
       "      <td>3</td>\n",
       "    </tr>\n",
       "    <tr>\n",
       "      <th>1</th>\n",
       "      <td>How formidable is the opposition alliance amon...</td>\n",
       "      <td>0</td>\n",
       "    </tr>\n",
       "  </tbody>\n",
       "</table>\n",
       "</div>"
      ],
      "text/plain": [
       "                                               STORY  SECTION\n",
       "0  But the most painful was the huge reversal in ...        3\n",
       "1  How formidable is the opposition alliance amon...        0"
      ]
     },
     "execution_count": 16,
     "metadata": {},
     "output_type": "execute_result"
    }
   ],
   "source": [
    "train.head(2)"
   ]
  },
  {
   "cell_type": "code",
   "execution_count": 17,
   "metadata": {},
   "outputs": [
    {
     "data": {
      "text/html": [
       "<div>\n",
       "<style scoped>\n",
       "    .dataframe tbody tr th:only-of-type {\n",
       "        vertical-align: middle;\n",
       "    }\n",
       "\n",
       "    .dataframe tbody tr th {\n",
       "        vertical-align: top;\n",
       "    }\n",
       "\n",
       "    .dataframe thead th {\n",
       "        text-align: right;\n",
       "    }\n",
       "</style>\n",
       "<table border=\"1\" class=\"dataframe\">\n",
       "  <thead>\n",
       "    <tr style=\"text-align: right;\">\n",
       "      <th></th>\n",
       "      <th>STORY</th>\n",
       "    </tr>\n",
       "  </thead>\n",
       "  <tbody>\n",
       "    <tr>\n",
       "      <th>0</th>\n",
       "      <td>2019 will see gadgets like gaming smartphones ...</td>\n",
       "    </tr>\n",
       "    <tr>\n",
       "      <th>1</th>\n",
       "      <td>It has also unleashed a wave of changes in the...</td>\n",
       "    </tr>\n",
       "  </tbody>\n",
       "</table>\n",
       "</div>"
      ],
      "text/plain": [
       "                                               STORY\n",
       "0  2019 will see gadgets like gaming smartphones ...\n",
       "1  It has also unleashed a wave of changes in the..."
      ]
     },
     "execution_count": 17,
     "metadata": {},
     "output_type": "execute_result"
    }
   ],
   "source": [
    "test.head(2)"
   ]
  },
  {
   "cell_type": "code",
   "execution_count": 18,
   "metadata": {},
   "outputs": [
    {
     "data": {
      "text/plain": [
       "<matplotlib.axes._subplots.AxesSubplot at 0x7f138a8da080>"
      ]
     },
     "execution_count": 18,
     "metadata": {},
     "output_type": "execute_result"
    },
    {
     "data": {
      "image/png": "[encoded data removed]",
      "text/plain": [
       "<Figure size 432x288 with 1 Axes>"
      ]
     },
     "metadata": {},
     "output_type": "display_data"
    }
   ],
   "source": [
    "sns.countplot(x='SECTION', data=train)"
   ]
  },
  {
   "cell_type": "code",
   "execution_count": 19,
   "metadata": {},
   "outputs": [
    {
     "name": "stdout",
     "output_type": "stream",
     "text": [
      "--2019-08-22 03:16:22--  https://storage.googleapis.com/bert_models/2018_10_18/uncased_L-12_H-768_A-12.zip\n",
      "Resolving storage.googleapis.com (storage.googleapis.com)... 74.125.69.128, 2607:f8b0:4001:c08::80\n",
      "Connecting to storage.googleapis.com (storage.googleapis.com)|74.125.69.128|:443... connected.\n",
      "HTTP request sent, awaiting response... 200 OK\n",
      "Length: 407727028 (389M) [application/zip]\n",
      "Saving to: ‘uncased_L-12_H-768_A-12.zip’\n",
      "\n",
      "uncased_L-12_H-768_ 100%[===================>] 388.84M   146MB/s    in 2.7s    \n",
      "\n",
      "2019-08-22 03:16:25 (146 MB/s) - ‘uncased_L-12_H-768_A-12.zip’ saved [407727028/407727028]\n",
      "\n",
      "--2019-08-22 03:16:26--  https://raw.githubusercontent.com/google-research/bert/master/modeling.py\n",
      "Resolving raw.githubusercontent.com (raw.githubusercontent.com)... 151.101.0.133, 151.101.64.133, 151.101.128.133, ...\n",
      "Connecting to raw.githubusercontent.com (raw.githubusercontent.com)|151.101.0.133|:443... connected.\n",
      "HTTP request sent, awaiting response... 200 OK\n",
      "Length: 37922 (37K) [text/plain]\n",
      "Saving to: ‘modeling.py’\n",
      "\n",
      "modeling.py         100%[===================>]  37.03K  --.-KB/s    in 0.01s   \n",
      "\n",
      "2019-08-22 03:16:26 (3.61 MB/s) - ‘modeling.py’ saved [37922/37922]\n",
      "\n",
      "--2019-08-22 03:16:26--  https://raw.githubusercontent.com/google-research/bert/master/optimization.py\n",
      "Resolving raw.githubusercontent.com (raw.githubusercontent.com)... 151.101.0.133, 151.101.64.133, 151.101.128.133, ...\n",
      "Connecting to raw.githubusercontent.com (raw.githubusercontent.com)|151.101.0.133|:443... connected.\n",
      "HTTP request sent, awaiting response... 200 OK\n",
      "Length: 6258 (6.1K) [text/plain]\n",
      "Saving to: ‘optimization.py’\n",
      "\n",
      "optimization.py     100%[===================>]   6.11K  --.-KB/s    in 0s      \n",
      "\n",
      "2019-08-22 03:16:26 (83.1 MB/s) - ‘optimization.py’ saved [6258/6258]\n",
      "\n",
      "--2019-08-22 03:16:27--  https://raw.githubusercontent.com/google-research/bert/master/run_classifier.py\n",
      "Resolving raw.githubusercontent.com (raw.githubusercontent.com)... 151.101.0.133, 151.101.64.133, 151.101.128.133, ...\n",
      "Connecting to raw.githubusercontent.com (raw.githubusercontent.com)|151.101.0.133|:443... connected.\n",
      "HTTP request sent, awaiting response... 200 OK\n",
      "Length: 34783 (34K) [text/plain]\n",
      "Saving to: ‘run_classifier.py’\n",
      "\n",
      "run_classifier.py   100%[===================>]  33.97K  --.-KB/s    in 0.01s   \n",
      "\n",
      "2019-08-22 03:16:27 (3.27 MB/s) - ‘run_classifier.py’ saved [34783/34783]\n",
      "\n",
      "--2019-08-22 03:16:28--  https://raw.githubusercontent.com/google-research/bert/master/tokenization.py\n",
      "Resolving raw.githubusercontent.com (raw.githubusercontent.com)... 151.101.0.133, 151.101.64.133, 151.101.128.133, ...\n",
      "Connecting to raw.githubusercontent.com (raw.githubusercontent.com)|151.101.0.133|:443... connected.\n",
      "HTTP request sent, awaiting response... 200 OK\n",
      "Length: 12257 (12K) [text/plain]\n",
      "Saving to: ‘tokenization.py’\n",
      "\n",
      "tokenization.py     100%[===================>]  11.97K  --.-KB/s    in 0s      \n",
      "\n",
      "2019-08-22 03:16:28 (94.7 MB/s) - ‘tokenization.py’ saved [12257/12257]\n",
      "\n"
     ]
    }
   ],
   "source": [
    "!wget https://storage.googleapis.com/bert_models/2018_10_18/uncased_L-12_H-768_A-12.zip\n",
    "!wget https://raw.githubusercontent.com/google-research/bert/master/modeling.py \n",
    "!wget https://raw.githubusercontent.com/google-research/bert/master/optimization.py \n",
    "!wget https://raw.githubusercontent.com/google-research/bert/master/run_classifier.py \n",
    "!wget https://raw.githubusercontent.com/google-research/bert/master/tokenization.py"
   ]
  },
  {
   "cell_type": "code",
   "execution_count": 20,
   "metadata": {},
   "outputs": [],
   "source": [
    "import modeling\n",
    "import optimization\n",
    "import run_classifier\n",
    "import tokenization"
   ]
  },
  {
   "cell_type": "code",
   "execution_count": 21,
   "metadata": {},
   "outputs": [],
   "source": [
    "import zipfile\n",
    "folder = 'model_folder'\n",
    "with zipfile.ZipFile(\"uncased_L-12_H-768_A-12.zip\",\"r\") as zip_ref:\n",
    "    zip_ref.extractall(folder)"
   ]
  },
  {
   "cell_type": "code",
   "execution_count": 22,
   "metadata": {},
   "outputs": [
    {
     "name": "stdout",
     "output_type": "stream",
     "text": [
      ">> Model output directory: model_folder/outputs\n",
      ">>  BERT pretrained directory: model_folder/uncased_L-12_H-768_A-12\n"
     ]
    }
   ],
   "source": [
    "BERT_MODEL = 'uncased_L-12_H-768_A-12'\n",
    "BERT_PRETRAINED_DIR = f'{folder}/uncased_L-12_H-768_A-12'\n",
    "OUTPUT_DIR = f'{folder}/outputs'\n",
    "print(f'>> Model output directory: {OUTPUT_DIR}')\n",
    "print(f'>>  BERT pretrained directory: {BERT_PRETRAINED_DIR}')"
   ]
  },
  {
   "cell_type": "code",
   "execution_count": 23,
   "metadata": {},
   "outputs": [
    {
     "data": {
      "text/plain": [
       "array([3, 0, 3, ..., 1, 0, 2])"
      ]
     },
     "execution_count": 23,
     "metadata": {},
     "output_type": "execute_result"
    }
   ],
   "source": [
    "train[\"SECTION\"].values.astype(int)"
   ]
  },
  {
   "cell_type": "code",
   "execution_count": 24,
   "metadata": {},
   "outputs": [],
   "source": [
    "def create_examples(lines, set_type, labels=None):\n",
    "#Generate data for the BERT model\n",
    "    guid = f'{set_type}'\n",
    "    examples = []\n",
    "    if guid == 'train':\n",
    "        for line, label in zip(lines, labels):\n",
    "            text_a = line\n",
    "            label = str(label)\n",
    "            examples.append(\n",
    "              run_classifier.InputExample(guid=guid, text_a=text_a, text_b=None, label=label))\n",
    "    else:\n",
    "        for line in lines:\n",
    "            text_a = line\n",
    "            label = '0'\n",
    "            examples.append(\n",
    "              run_classifier.InputExample(guid=guid, text_a=text_a, text_b=None, label=label))\n",
    "    return examples"
   ]
  },
  {
   "cell_type": "code",
   "execution_count": 26,
   "metadata": {},
   "outputs": [
    {
     "name": "stderr",
     "output_type": "stream",
     "text": [
      "Using TensorFlow backend.\n"
     ]
    }
   ],
   "source": [
    "import tensorflow as tf\n",
    "import random\n",
    "random.seed(1)\n",
    "session_conf = tf.ConfigProto(intra_op_parallelism_threads=6, inter_op_parallelism_threads=5)\n",
    "from keras import backend"
   ]
  },
  {
   "cell_type": "code",
   "execution_count": 32,
   "metadata": {},
   "outputs": [],
   "source": [
    "# Model Hyper Parameters\n",
    "TRAIN_BATCH_SIZE = 32\n",
    "EVAL_BATCH_SIZE = 32\n",
    "LEARNING_RATE = 1e-5\n",
    "NUM_TRAIN_EPOCHS = 5\n",
    "WARMUP_PROPORTION = 0.1\n",
    "MAX_SEQ_LENGTH = 200\n",
    "\n",
    "# Model configs\n",
    "SAVE_CHECKPOINTS_STEPS = 100000  \n",
    "ITERATIONS_PER_LOOP = 100000\n",
    "NUM_TPU_CORES = 8\n",
    "VOCAB_FILE = os.path.join(BERT_PRETRAINED_DIR, 'vocab.txt')\n",
    "CONFIG_FILE = os.path.join(BERT_PRETRAINED_DIR, 'bert_config.json')\n",
    "INIT_CHECKPOINT = os.path.join(BERT_PRETRAINED_DIR, 'bert_model.ckpt')\n",
    "DO_LOWER_CASE = BERT_MODEL.startswith('uncased')"
   ]
  },
  {
   "cell_type": "code",
   "execution_count": 33,
   "metadata": {},
   "outputs": [],
   "source": [
    "label_list = [0,1,2,3]\n",
    "tokenizer = tokenization.FullTokenizer(vocab_file=VOCAB_FILE, do_lower_case=DO_LOWER_CASE)\n",
    "train_examples = create_examples(train[\"STORY\"].values, 'train', labels=train[\"SECTION\"].values.astype(int))\n",
    "\n",
    "tpu_cluster_resolver = None #Since training will happen on GPU, we won't need a cluster resolver\n",
    "#TPUEstimator also supports training on CPU and GPU. You don't need to define a separate tf.estimator.Estimator.\n",
    "run_config = tf.contrib.tpu.RunConfig(\n",
    "    cluster=tpu_cluster_resolver,\n",
    "    model_dir=OUTPUT_DIR,\n",
    "    save_checkpoints_steps=SAVE_CHECKPOINTS_STEPS,\n",
    "    tpu_config=tf.contrib.tpu.TPUConfig(\n",
    "        iterations_per_loop=ITERATIONS_PER_LOOP,\n",
    "        num_shards=NUM_TPU_CORES,\n",
    "        per_host_input_for_training=tf.contrib.tpu.InputPipelineConfig.PER_HOST_V2))"
   ]
  },
  {
   "cell_type": "code",
   "execution_count": 34,
   "metadata": {},
   "outputs": [],
   "source": [
    "num_train_steps = int(\n",
    "    len(train_examples) / TRAIN_BATCH_SIZE * NUM_TRAIN_EPOCHS)\n",
    "num_warmup_steps = int(num_train_steps * WARMUP_PROPORTION)\n",
    "\n",
    "model_fn = run_classifier.model_fn_builder(\n",
    "    bert_config=modeling.BertConfig.from_json_file(CONFIG_FILE),\n",
    "    num_labels=len(label_list),\n",
    "    init_checkpoint=INIT_CHECKPOINT,\n",
    "    learning_rate=LEARNING_RATE,\n",
    "    num_train_steps=num_train_steps,\n",
    "    num_warmup_steps=num_warmup_steps,\n",
    "    use_tpu=False, #If False training will fall on CPU or GPU, depending on what is available  \n",
    "    use_one_hot_embeddings=True)"
   ]
  },
  {
   "cell_type": "code",
   "execution_count": 35,
   "metadata": {},
   "outputs": [],
   "source": [
    "estimator = tf.contrib.tpu.TPUEstimator(\n",
    "    use_tpu=False, #If False training will fall on CPU or GPU, depending on what is available \n",
    "    model_fn=model_fn,\n",
    "    config=run_config,\n",
    "    train_batch_size=TRAIN_BATCH_SIZE,\n",
    "    eval_batch_size=EVAL_BATCH_SIZE)"
   ]
  },
  {
   "cell_type": "code",
   "execution_count": 36,
   "metadata": {},
   "outputs": [
    {
     "name": "stdout",
     "output_type": "stream",
     "text": [
      "Please wait...\n",
      ">> Started training at 2019-08-22 03:21:33.974862 \n",
      "  Num examples = 7628\n",
      "  Batch size = 32\n",
      ">> Finished training at 2019-08-22 03:38:46.914279\n"
     ]
    }
   ],
   "source": [
    "import datetime\n",
    "print('Please wait...')\n",
    "train_features = run_classifier.convert_examples_to_features(train_examples,{'0':0,'1':1,'2':2, '3':3}, MAX_SEQ_LENGTH, tokenizer)\n",
    "print('>> Started training at {} '.format(datetime.datetime.now()))\n",
    "print('  Num examples = {}'.format(len(train_examples)))\n",
    "print('  Batch size = {}'.format(TRAIN_BATCH_SIZE))\n",
    "tf.logging.info(\"  Num steps = %d\", num_train_steps)\n",
    "train_input_fn = run_classifier.input_fn_builder(\n",
    "    features=train_features,\n",
    "    seq_length=MAX_SEQ_LENGTH,\n",
    "    is_training=True,\n",
    "    drop_remainder=True)\n",
    "estimator.train(input_fn=train_input_fn, max_steps=num_train_steps)\n",
    "print('>> Finished training at {}'.format(datetime.datetime.now()))"
   ]
  },
  {
   "cell_type": "code",
   "execution_count": 37,
   "metadata": {},
   "outputs": [],
   "source": [
    "def input_fn_builder(features, seq_length, is_training, drop_remainder):\n",
    "    all_input_ids = []\n",
    "    all_input_mask = []\n",
    "    all_segment_ids = []\n",
    "    all_label_ids = []\n",
    "    \n",
    "    for feature in features:\n",
    "        all_input_ids.append(feature.input_ids)\n",
    "        all_input_mask.append(feature.input_mask)\n",
    "        all_segment_ids.append(feature.segment_ids)\n",
    "        all_label_ids.append(feature.label_id)\n",
    "    \n",
    "    def input_fn(params):\n",
    "        \"\"\"The actual input function.\"\"\"\n",
    "        print(params)\n",
    "        batch_size = 500\n",
    "\n",
    "        num_examples = len(features)\n",
    "\n",
    "        d = tf.data.Dataset.from_tensor_slices({\n",
    "            \"input_ids\":\n",
    "                tf.constant(\n",
    "                    all_input_ids, shape=[num_examples, seq_length],\n",
    "                    dtype=tf.int32),\n",
    "            \"input_mask\":\n",
    "                tf.constant(\n",
    "                    all_input_mask,\n",
    "                    shape=[num_examples, seq_length],\n",
    "                    dtype=tf.int32),\n",
    "            \"segment_ids\":\n",
    "                tf.constant(\n",
    "                    all_segment_ids,\n",
    "                    shape=[num_examples, seq_length],\n",
    "                    dtype=tf.int32),\n",
    "            \"label_ids\":\n",
    "                tf.constant(all_label_ids, shape=[num_examples], dtype=tf.int32),\n",
    "    })\n",
    "\n",
    "        if is_training:\n",
    "            d = d.repeat()\n",
    "            d = d.shuffle(buffer_size=100)\n",
    "\n",
    "        d = d.batch(batch_size=batch_size, drop_remainder=drop_remainder)\n",
    "        return d\n",
    "\n",
    "    return input_fn"
   ]
  },
  {
   "cell_type": "code",
   "execution_count": 38,
   "metadata": {},
   "outputs": [],
   "source": [
    "predict_examples = create_examples(test['STORY'].values, 'test')\n",
    "\n",
    "predict_features = run_classifier.convert_examples_to_features(\n",
    "    predict_examples, {'0':0,'1':1,'2':2,'3':3}, MAX_SEQ_LENGTH, tokenizer)\n",
    "\n",
    "predict_input_fn = input_fn_builder(\n",
    "    features=predict_features,\n",
    "    seq_length=MAX_SEQ_LENGTH,\n",
    "    is_training=False,\n",
    "    drop_remainder=False)\n",
    "\n",
    "result = estimator.predict(input_fn=predict_input_fn)"
   ]
  },
  {
   "cell_type": "code",
   "execution_count": 40,
   "metadata": {},
   "outputs": [
    {
     "name": "stdout",
     "output_type": "stream",
     "text": [
      "{}\n"
     ]
    }
   ],
   "source": [
    "preds = []\n",
    "for prediction in result:\n",
    "      preds.append(np.argmax(prediction['probabilities']))"
   ]
  },
  {
   "cell_type": "code",
   "execution_count": 41,
   "metadata": {},
   "outputs": [
    {
     "data": {
      "text/html": [
       "<div>\n",
       "<style scoped>\n",
       "    .dataframe tbody tr th:only-of-type {\n",
       "        vertical-align: middle;\n",
       "    }\n",
       "\n",
       "    .dataframe tbody tr th {\n",
       "        vertical-align: top;\n",
       "    }\n",
       "\n",
       "    .dataframe thead th {\n",
       "        text-align: right;\n",
       "    }\n",
       "</style>\n",
       "<table border=\"1\" class=\"dataframe\">\n",
       "  <thead>\n",
       "    <tr style=\"text-align: right;\">\n",
       "      <th></th>\n",
       "      <th>SECTION</th>\n",
       "    </tr>\n",
       "  </thead>\n",
       "  <tbody>\n",
       "    <tr>\n",
       "      <th>0</th>\n",
       "      <td>1</td>\n",
       "    </tr>\n",
       "    <tr>\n",
       "      <th>1</th>\n",
       "      <td>2</td>\n",
       "    </tr>\n",
       "    <tr>\n",
       "      <th>2</th>\n",
       "      <td>1</td>\n",
       "    </tr>\n",
       "    <tr>\n",
       "      <th>3</th>\n",
       "      <td>0</td>\n",
       "    </tr>\n",
       "    <tr>\n",
       "      <th>4</th>\n",
       "      <td>1</td>\n",
       "    </tr>\n",
       "  </tbody>\n",
       "</table>\n",
       "</div>"
      ],
      "text/plain": [
       "   SECTION\n",
       "0        1\n",
       "1        2\n",
       "2        1\n",
       "3        0\n",
       "4        1"
      ]
     },
     "execution_count": 41,
     "metadata": {},
     "output_type": "execute_result"
    }
   ],
   "source": [
    "sub['SECTION'] = preds\n",
    "sub.head()"
   ]
  },
  {
   "cell_type": "code",
   "execution_count": 42,
   "metadata": {},
   "outputs": [
    {
     "data": {
      "text/plain": [
       "1    1182\n",
       "2     823\n",
       "0     424\n",
       "3     319\n",
       "Name: SECTION, dtype: int64"
      ]
     },
     "execution_count": 42,
     "metadata": {},
     "output_type": "execute_result"
    }
   ],
   "source": [
    "sub['SECTION'].value_counts()"
   ]
  },
  {
   "cell_type": "code",
   "execution_count": 43,
   "metadata": {},
   "outputs": [
    {
     "data": {
      "text/html": [
       "<a download=\"submission.csv\" href=\"data:text/csv;base64,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\" target=\"_blank\">Download CSV file</a>"
      ],
      "text/plain": [
       "<IPython.core.display.HTML object>"
      ]
     },
     "execution_count": 43,
     "metadata": {},
     "output_type": "execute_result"
    }
   ],
   "source": [
    "from IPython.display import HTML\n",
    "import pandas as pd\n",
    "import numpy as np\n",
    "import base64\n",
    "\n",
    "def create_download_link(df, title = \"Download CSV file\", filename = \"submission.csv\"):  \n",
    "    csv = df.to_csv(index=False)\n",
    "    b64 = base64.b64encode(csv.encode())\n",
    "    payload = b64.decode()\n",
    "    html = '<a download=\"{filename}\" href=\"data:text/csv;base64,{payload}\" target=\"_blank\">{title}</a>'\n",
    "    html = html.format(payload=payload,title=title,filename=filename)\n",
    "    return HTML(html)\n",
    "\n",
    "create_download_link(sub)"
   ]
  }
 ],
 "metadata": {
  "kernelspec": {
   "display_name": "Python 3",
   "language": "python",
   "name": "python3"
  },
  "language_info": {
   "codemirror_mode": {
    "name": "ipython",
    "version": 3
   },
   "file_extension": ".py",
   "mimetype": "text/x-python",
   "name": "python",
   "nbconvert_exporter": "python",
   "pygments_lexer": "ipython3",
   "version": "3.6.9"
  },
  "toc": {
   "base_numbering": 1,
   "nav_menu": {},
   "number_sections": true,
   "sideBar": true,
   "skip_h1_title": false,
   "title_cell": "Table of Contents",
   "title_sidebar": "Contents",
   "toc_cell": false,
   "toc_position": {},
   "toc_section_display": true,
   "toc_window_display": false
  }
 },
 "nbformat": 4,
 "nbformat_minor": 1
}

{
 "cells": [
  {
   "cell_type": "code",
   "execution_count": 1,
   "metadata": {
    "_cell_guid": "b1076dfc-b9ad-4769-8c92-a6c4dae69d19",
    "_uuid": "8f2839f25d086af736a60e9eeb907d3b93b6e0e5"
   },
   "outputs": [
    {
     "name": "stdout",
     "output_type": "stream",
     "text": [
      "['predict the news category']\n"
     ]
    }
   ],
   "source": [
    "import pandas as pd\n",
    "import numpy as np\n",
    "import matplotlib.pyplot as plt\n",
    "import seaborn as sns\n",
    "sns.set_style('darkgrid')\n",
    "import os\n",
    "print(os.listdir(\"../input\"))"
   ]
  },
  {
   "cell_type": "code",
   "execution_count": 2,
   "metadata": {
    "_cell_guid": "79c7e3d0-c299-4dcb-8224-4455121ee9b0",
    "_uuid": "d629ff2d2480ee46fbb7e2d37f6b5fab8052498a"
   },
   "outputs": [],
   "source": [
    "from fastai.text import *\n",
    "from fastai.imports import *\n",
    "from fastai.text import *\n",
    "from fastai import *"
   ]
  },
  {
   "cell_type": "code",
   "execution_count": 3,
   "metadata": {},
   "outputs": [
    {
     "data": {
      "text/plain": [
       "[PosixPath('../input/predict the news category/Sample_submission.xlsx'),\n",
       " PosixPath('../input/predict the news category/Data_Train.xlsx'),\n",
       " PosixPath('../input/predict the news category/Data_Test.xlsx')]"
      ]
     },
     "execution_count": 3,
     "metadata": {},
     "output_type": "execute_result"
    }
   ],
   "source": [
    "path = Path('../input/predict the news category/')\n",
    "path.ls()"
   ]
  },
  {
   "cell_type": "code",
   "execution_count": 4,
   "metadata": {},
   "outputs": [
    {
     "name": "stderr",
     "output_type": "stream",
     "text": [
      "/opt/conda/lib/python3.6/site-packages/tensorflow/python/framework/dtypes.py:516: FutureWarning: Passing (type, 1) or '1type' as a synonym of type is deprecated; in a future version of numpy, it will be understood as (type, (1,)) / '(1,)type'.\n",
      "  _np_qint8 = np.dtype([(\"qint8\", np.int8, 1)])\n",
      "/opt/conda/lib/python3.6/site-packages/tensorflow/python/framework/dtypes.py:517: FutureWarning: Passing (type, 1) or '1type' as a synonym of type is deprecated; in a future version of numpy, it will be understood as (type, (1,)) / '(1,)type'.\n",
      "  _np_quint8 = np.dtype([(\"quint8\", np.uint8, 1)])\n",
      "/opt/conda/lib/python3.6/site-packages/tensorflow/python/framework/dtypes.py:518: FutureWarning: Passing (type, 1) or '1type' as a synonym of type is deprecated; in a future version of numpy, it will be understood as (type, (1,)) / '(1,)type'.\n",
      "  _np_qint16 = np.dtype([(\"qint16\", np.int16, 1)])\n",
      "/opt/conda/lib/python3.6/site-packages/tensorflow/python/framework/dtypes.py:519: FutureWarning: Passing (type, 1) or '1type' as a synonym of type is deprecated; in a future version of numpy, it will be understood as (type, (1,)) / '(1,)type'.\n",
      "  _np_quint16 = np.dtype([(\"quint16\", np.uint16, 1)])\n",
      "/opt/conda/lib/python3.6/site-packages/tensorflow/python/framework/dtypes.py:520: FutureWarning: Passing (type, 1) or '1type' as a synonym of type is deprecated; in a future version of numpy, it will be understood as (type, (1,)) / '(1,)type'.\n",
      "  _np_qint32 = np.dtype([(\"qint32\", np.int32, 1)])\n",
      "/opt/conda/lib/python3.6/site-packages/tensorflow/python/framework/dtypes.py:525: FutureWarning: Passing (type, 1) or '1type' as a synonym of type is deprecated; in a future version of numpy, it will be understood as (type, (1,)) / '(1,)type'.\n",
      "  np_resource = np.dtype([(\"resource\", np.ubyte, 1)])\n",
      "/opt/conda/lib/python3.6/site-packages/tensorboard/compat/tensorflow_stub/dtypes.py:541: FutureWarning: Passing (type, 1) or '1type' as a synonym of type is deprecated; in a future version of numpy, it will be understood as (type, (1,)) / '(1,)type'.\n",
      "  _np_qint8 = np.dtype([(\"qint8\", np.int8, 1)])\n",
      "/opt/conda/lib/python3.6/site-packages/tensorboard/compat/tensorflow_stub/dtypes.py:542: FutureWarning: Passing (type, 1) or '1type' as a synonym of type is deprecated; in a future version of numpy, it will be understood as (type, (1,)) / '(1,)type'.\n",
      "  _np_quint8 = np.dtype([(\"quint8\", np.uint8, 1)])\n",
      "/opt/conda/lib/python3.6/site-packages/tensorboard/compat/tensorflow_stub/dtypes.py:543: FutureWarning: Passing (type, 1) or '1type' as a synonym of type is deprecated; in a future version of numpy, it will be understood as (type, (1,)) / '(1,)type'.\n",
      "  _np_qint16 = np.dtype([(\"qint16\", np.int16, 1)])\n",
      "/opt/conda/lib/python3.6/site-packages/tensorboard/compat/tensorflow_stub/dtypes.py:544: FutureWarning: Passing (type, 1) or '1type' as a synonym of type is deprecated; in a future version of numpy, it will be understood as (type, (1,)) / '(1,)type'.\n",
      "  _np_quint16 = np.dtype([(\"quint16\", np.uint16, 1)])\n",
      "/opt/conda/lib/python3.6/site-packages/tensorboard/compat/tensorflow_stub/dtypes.py:545: FutureWarning: Passing (type, 1) or '1type' as a synonym of type is deprecated; in a future version of numpy, it will be understood as (type, (1,)) / '(1,)type'.\n",
      "  _np_qint32 = np.dtype([(\"qint32\", np.int32, 1)])\n",
      "/opt/conda/lib/python3.6/site-packages/tensorboard/compat/tensorflow_stub/dtypes.py:550: FutureWarning: Passing (type, 1) or '1type' as a synonym of type is deprecated; in a future version of numpy, it will be understood as (type, (1,)) / '(1,)type'.\n",
      "  np_resource = np.dtype([(\"resource\", np.ubyte, 1)])\n"
     ]
    }
   ],
   "source": [
    "train = pd.read_excel(path/'Data_Train.xlsx')\n",
    "test = pd.read_excel(path/'Data_Test.xlsx')\n",
    "sub = pd.read_excel(path/'Sample_submission.xlsx')"
   ]
  },
  {
   "cell_type": "code",
   "execution_count": 5,
   "metadata": {},
   "outputs": [
    {
     "data": {
      "text/plain": [
       "((7628, 2), (2748, 1), (2748, 1))"
      ]
     },
     "execution_count": 5,
     "metadata": {},
     "output_type": "execute_result"
    }
   ],
   "source": [
    "train.shape, test.shape, sub.shape"
   ]
  },
  {
   "cell_type": "code",
   "execution_count": 6,
   "metadata": {},
   "outputs": [
    {
     "data": {
      "text/html": [
       "<div>\n",
       "<style scoped>\n",
       "    .dataframe tbody tr th:only-of-type {\n",
       "        vertical-align: middle;\n",
       "    }\n",
       "\n",
       "    .dataframe tbody tr th {\n",
       "        vertical-align: top;\n",
       "    }\n",
       "\n",
       "    .dataframe thead th {\n",
       "        text-align: right;\n",
       "    }\n",
       "</style>\n",
       "<table border=\"1\" class=\"dataframe\">\n",
       "  <thead>\n",
       "    <tr style=\"text-align: right;\">\n",
       "      <th></th>\n",
       "      <th>STORY</th>\n",
       "      <th>SECTION</th>\n",
       "    </tr>\n",
       "  </thead>\n",
       "  <tbody>\n",
       "    <tr>\n",
       "      <th>0</th>\n",
       "      <td>But the most painful was the huge reversal in ...</td>\n",
       "      <td>3</td>\n",
       "    </tr>\n",
       "    <tr>\n",
       "      <th>1</th>\n",
       "      <td>How formidable is the opposition alliance amon...</td>\n",
       "      <td>0</td>\n",
       "    </tr>\n",
       "  </tbody>\n",
       "</table>\n",
       "</div>"
      ],
      "text/plain": [
       "                                               STORY  SECTION\n",
       "0  But the most painful was the huge reversal in ...        3\n",
       "1  How formidable is the opposition alliance amon...        0"
      ]
     },
     "execution_count": 6,
     "metadata": {},
     "output_type": "execute_result"
    }
   ],
   "source": [
    "train.head(2)"
   ]
  },
  {
   "cell_type": "code",
   "execution_count": 7,
   "metadata": {},
   "outputs": [
    {
     "data": {
      "text/html": [
       "<div>\n",
       "<style scoped>\n",
       "    .dataframe tbody tr th:only-of-type {\n",
       "        vertical-align: middle;\n",
       "    }\n",
       "\n",
       "    .dataframe tbody tr th {\n",
       "        vertical-align: top;\n",
       "    }\n",
       "\n",
       "    .dataframe thead th {\n",
       "        text-align: right;\n",
       "    }\n",
       "</style>\n",
       "<table border=\"1\" class=\"dataframe\">\n",
       "  <thead>\n",
       "    <tr style=\"text-align: right;\">\n",
       "      <th></th>\n",
       "      <th>STORY</th>\n",
       "    </tr>\n",
       "  </thead>\n",
       "  <tbody>\n",
       "    <tr>\n",
       "      <th>0</th>\n",
       "      <td>2019 will see gadgets like gaming smartphones ...</td>\n",
       "    </tr>\n",
       "    <tr>\n",
       "      <th>1</th>\n",
       "      <td>It has also unleashed a wave of changes in the...</td>\n",
       "    </tr>\n",
       "  </tbody>\n",
       "</table>\n",
       "</div>"
      ],
      "text/plain": [
       "                                               STORY\n",
       "0  2019 will see gadgets like gaming smartphones ...\n",
       "1  It has also unleashed a wave of changes in the..."
      ]
     },
     "execution_count": 7,
     "metadata": {},
     "output_type": "execute_result"
    }
   ],
   "source": [
    "test.head(2)"
   ]
  },
  {
   "cell_type": "code",
   "execution_count": 8,
   "metadata": {},
   "outputs": [
    {
     "data": {
      "text/plain": [
       "<matplotlib.axes._subplots.AxesSubplot at 0x7f589b533358>"
      ]
     },
     "execution_count": 8,
     "metadata": {},
     "output_type": "execute_result"
    },
    {
     "data": {
      "image/png": "[encoded data removed]",
      "text/plain": [
       "<Figure size 432x288 with 1 Axes>"
      ]
     },
     "metadata": {
      "needs_background": "light"
     },
     "output_type": "display_data"
    }
   ],
   "source": [
    "sns.countplot(x='SECTION', data=train)"
   ]
  },
  {
   "cell_type": "code",
   "execution_count": 9,
   "metadata": {},
   "outputs": [],
   "source": [
    "def random_seed(seed_value):\n",
    "    import random \n",
    "    random.seed(seed_value)  \n",
    "    import numpy as np\n",
    "    np.random.seed(seed_value)  \n",
    "    import torch\n",
    "    torch.manual_seed(seed_value)  \n",
    "    \n",
    "    if torch.cuda.is_available(): \n",
    "        torch.cuda.manual_seed(seed_value)\n",
    "        torch.cuda.manual_seed_all(seed_value)  \n",
    "        torch.backends.cudnn.deterministic = True   \n",
    "        torch.backends.cudnn.benchmark = False"
   ]
  },
  {
   "cell_type": "code",
   "execution_count": 10,
   "metadata": {},
   "outputs": [
    {
     "data": {
      "text/html": [
       "<table border=\"1\" class=\"dataframe\">\n",
       "  <thead>\n",
       "    <tr style=\"text-align: left;\">\n",
       "      <th>epoch</th>\n",
       "      <th>train_loss</th>\n",
       "      <th>valid_loss</th>\n",
       "      <th>accuracy</th>\n",
       "      <th>time</th>\n",
       "    </tr>\n",
       "  </thead>\n",
       "  <tbody>\n",
       "    <tr>\n",
       "      <td>0</td>\n",
       "      <td>3.884861</td>\n",
       "      <td>3.618055</td>\n",
       "      <td>0.341282</td>\n",
       "      <td>00:33</td>\n",
       "    </tr>\n",
       "  </tbody>\n",
       "</table>"
      ],
      "text/plain": [
       "<IPython.core.display.HTML object>"
      ]
     },
     "metadata": {},
     "output_type": "display_data"
    },
    {
     "data": {
      "text/html": [
       "<table border=\"1\" class=\"dataframe\">\n",
       "  <thead>\n",
       "    <tr style=\"text-align: left;\">\n",
       "      <th>epoch</th>\n",
       "      <th>train_loss</th>\n",
       "      <th>valid_loss</th>\n",
       "      <th>accuracy</th>\n",
       "      <th>time</th>\n",
       "    </tr>\n",
       "  </thead>\n",
       "  <tbody>\n",
       "    <tr>\n",
       "      <td>0</td>\n",
       "      <td>3.383326</td>\n",
       "      <td>3.510152</td>\n",
       "      <td>0.353401</td>\n",
       "      <td>00:40</td>\n",
       "    </tr>\n",
       "    <tr>\n",
       "      <td>1</td>\n",
       "      <td>3.297758</td>\n",
       "      <td>3.433312</td>\n",
       "      <td>0.364023</td>\n",
       "      <td>00:40</td>\n",
       "    </tr>\n",
       "    <tr>\n",
       "      <td>2</td>\n",
       "      <td>3.114028</td>\n",
       "      <td>3.382402</td>\n",
       "      <td>0.373136</td>\n",
       "      <td>00:39</td>\n",
       "    </tr>\n",
       "    <tr>\n",
       "      <td>3</td>\n",
       "      <td>2.867497</td>\n",
       "      <td>3.353268</td>\n",
       "      <td>0.377482</td>\n",
       "      <td>00:40</td>\n",
       "    </tr>\n",
       "    <tr>\n",
       "      <td>4</td>\n",
       "      <td>2.580076</td>\n",
       "      <td>3.357384</td>\n",
       "      <td>0.382314</td>\n",
       "      <td>00:40</td>\n",
       "    </tr>\n",
       "    <tr>\n",
       "      <td>5</td>\n",
       "      <td>2.304793</td>\n",
       "      <td>3.380360</td>\n",
       "      <td>0.384887</td>\n",
       "      <td>00:40</td>\n",
       "    </tr>\n",
       "    <tr>\n",
       "      <td>6</td>\n",
       "      <td>2.100055</td>\n",
       "      <td>3.420664</td>\n",
       "      <td>0.385018</td>\n",
       "      <td>00:40</td>\n",
       "    </tr>\n",
       "    <tr>\n",
       "      <td>7</td>\n",
       "      <td>1.930216</td>\n",
       "      <td>3.454225</td>\n",
       "      <td>0.384191</td>\n",
       "      <td>00:40</td>\n",
       "    </tr>\n",
       "    <tr>\n",
       "      <td>8</td>\n",
       "      <td>1.888747</td>\n",
       "      <td>3.466512</td>\n",
       "      <td>0.384073</td>\n",
       "      <td>00:40</td>\n",
       "    </tr>\n",
       "  </tbody>\n",
       "</table>"
      ],
      "text/plain": [
       "<IPython.core.display.HTML object>"
      ]
     },
     "metadata": {},
     "output_type": "display_data"
    },
    {
     "data": {
      "text/html": [
       "<table border=\"1\" class=\"dataframe\">\n",
       "  <thead>\n",
       "    <tr style=\"text-align: left;\">\n",
       "      <th>epoch</th>\n",
       "      <th>train_loss</th>\n",
       "      <th>valid_loss</th>\n",
       "      <th>accuracy</th>\n",
       "      <th>time</th>\n",
       "    </tr>\n",
       "  </thead>\n",
       "  <tbody>\n",
       "    <tr>\n",
       "      <td>0</td>\n",
       "      <td>0.155208</td>\n",
       "      <td>0.100051</td>\n",
       "      <td>0.974460</td>\n",
       "      <td>00:15</td>\n",
       "    </tr>\n",
       "  </tbody>\n",
       "</table>"
      ],
      "text/plain": [
       "<IPython.core.display.HTML object>"
      ]
     },
     "metadata": {},
     "output_type": "display_data"
    },
    {
     "data": {
      "text/html": [
       "<table border=\"1\" class=\"dataframe\">\n",
       "  <thead>\n",
       "    <tr style=\"text-align: left;\">\n",
       "      <th>epoch</th>\n",
       "      <th>train_loss</th>\n",
       "      <th>valid_loss</th>\n",
       "      <th>accuracy</th>\n",
       "      <th>time</th>\n",
       "    </tr>\n",
       "  </thead>\n",
       "  <tbody>\n",
       "    <tr>\n",
       "      <td>0</td>\n",
       "      <td>0.137248</td>\n",
       "      <td>0.090150</td>\n",
       "      <td>0.968566</td>\n",
       "      <td>00:18</td>\n",
       "    </tr>\n",
       "  </tbody>\n",
       "</table>"
      ],
      "text/plain": [
       "<IPython.core.display.HTML object>"
      ]
     },
     "metadata": {},
     "output_type": "display_data"
    },
    {
     "data": {
      "text/html": [
       "\n",
       "    <div>\n",
       "        <style>\n",
       "            /* Turns off some styling */\n",
       "            progress {\n",
       "                /* gets rid of default border in Firefox and Opera. */\n",
       "                border: none;\n",
       "                /* Needs to be in here for Safari polyfill so background images work as expected. */\n",
       "                background-size: auto;\n",
       "            }\n",
       "            .progress-bar-interrupted, .progress-bar-interrupted::-webkit-progress-bar {\n",
       "                background: #F44336;\n",
       "            }\n",
       "        </style>\n",
       "      <progress value='0' class='' max='1', style='width:300px; height:20px; vertical-align: middle;'></progress>\n",
       "      0.00% [0/1 00:00<00:00]\n",
       "    </div>\n",
       "    \n",
       "<table border=\"1\" class=\"dataframe\">\n",
       "  <thead>\n",
       "    <tr style=\"text-align: left;\">\n",
       "      <th>epoch</th>\n",
       "      <th>train_loss</th>\n",
       "      <th>valid_loss</th>\n",
       "      <th>accuracy</th>\n",
       "      <th>time</th>\n",
       "    </tr>\n",
       "  </thead>\n",
       "  <tbody>\n",
       "  </tbody>\n",
       "</table><p>\n",
       "\n",
       "    <div>\n",
       "        <style>\n",
       "            /* Turns off some styling */\n",
       "            progress {\n",
       "                /* gets rid of default border in Firefox and Opera. */\n",
       "                border: none;\n",
       "                /* Needs to be in here for Safari polyfill so background images work as expected. */\n",
       "                background-size: auto;\n",
       "            }\n",
       "            .progress-bar-interrupted, .progress-bar-interrupted::-webkit-progress-bar {\n",
       "                background: #F44336;\n",
       "            }\n",
       "        </style>\n",
       "      <progress value='169' class='' max='222', style='width:300px; height:20px; vertical-align: middle;'></progress>\n",
       "      76.13% [169/222 00:22<00:07 0.0859]\n",
       "    </div>\n",
       "    "
      ],
      "text/plain": [
       "<IPython.core.display.HTML object>"
      ]
     },
     "metadata": {},
     "output_type": "display_data"
    }
   ],
   "source": [
    "from sklearn.metrics import accuracy_score \n",
    "y_pred_totcb = []\n",
    "from sklearn.model_selection import KFold, RepeatedKFold\n",
    "fold = KFold(n_splits=15, shuffle=True, random_state=0)\n",
    "i=1\n",
    "\n",
    "for train_index, test_index in fold.split(train):\n",
    "    \n",
    "    train_df = train.iloc[train_index]\n",
    "    valid_df = train.iloc[test_index]\n",
    "\n",
    "    random_seed(10)\n",
    "    \n",
    "    data_lm = TextLMDataBunch.from_df(Path(path), train_df, valid_df, test, text_cols=[0], bs=32)\n",
    "    data_clas = TextClasDataBunch.from_df(Path(path), train_df, valid_df, test, text_cols=[0], label_cols=1, bs=32)\n",
    "    \n",
    "    learn = language_model_learner(data_lm, AWD_LSTM, drop_mult=0.4, model_dir='/tmp/model/')\n",
    "    learn.fit_one_cycle(1, 1e-2, moms=(0.8, 0.7))\n",
    "    learn.unfreeze()\n",
    "    learn.fit_one_cycle(9, 1e-3, moms=(0.8,0.7))\n",
    "    learn.save_encoder('model_enc')\n",
    "    \n",
    "    learn = text_classifier_learner(data_clas, AWD_LSTM, drop_mult=0.4, model_dir='/tmp/model/')\n",
    "    learn.load_encoder('model_enc')\n",
    "    learn.fit_one_cycle(1, 1e-2, moms=(0.8, 0.7))\n",
    "    learn.freeze_to(-2)\n",
    "    learn.fit_one_cycle(1, slice(1e-2/(2.6**4),1e-2), moms=(0.8,0.7))\n",
    "    learn.freeze_to(-3)\n",
    "    learn.fit_one_cycle(1, slice(5e-3/(2.6**4),5e-3), moms=(0.8,0.7))\n",
    "    learn.unfreeze()\n",
    "    learn.fit_one_cycle(5, slice(1e-3/(2.6**4),1e-3), moms=(0.8,0.7))\n",
    "   \n",
    "    log_preds, test_labels = learn.get_preds(ds_type=DatasetType.Test, ordered=True)\n",
    "    preds = np.argmax(log_preds, 1)\n",
    "    y_pred_totcb.append(preds)\n",
    "    print(f'fold {i} completed')\n",
    "    i = i+1"
   ]
  },
  {
   "cell_type": "markdown",
   "metadata": {},
   "source": [
    "# Submission"
   ]
  },
  {
   "cell_type": "code",
   "execution_count": 11,
   "metadata": {},
   "outputs": [],
   "source": [
    "df = pd.DataFrame()\n",
    "for i in range(15):\n",
    "    col_name = 'SECTION_' + str(i)\n",
    "    df[col_name] =  y_pred_totcb[i] "
   ]
  },
  {
   "cell_type": "code",
   "execution_count": 12,
   "metadata": {},
   "outputs": [
    {
     "data": {
      "text/plain": [
       "(2748, 15)"
      ]
     },
     "execution_count": 12,
     "metadata": {},
     "output_type": "execute_result"
    }
   ],
   "source": [
    "df.shape"
   ]
  },
  {
   "cell_type": "code",
   "execution_count": 13,
   "metadata": {},
   "outputs": [
    {
     "data": {
      "text/html": [
       "<div>\n",
       "<style scoped>\n",
       "    .dataframe tbody tr th:only-of-type {\n",
       "        vertical-align: middle;\n",
       "    }\n",
       "\n",
       "    .dataframe tbody tr th {\n",
       "        vertical-align: top;\n",
       "    }\n",
       "\n",
       "    .dataframe thead th {\n",
       "        text-align: right;\n",
       "    }\n",
       "</style>\n",
       "<table border=\"1\" class=\"dataframe\">\n",
       "  <thead>\n",
       "    <tr style=\"text-align: right;\">\n",
       "      <th></th>\n",
       "      <th>SECTION_0</th>\n",
       "      <th>SECTION_1</th>\n",
       "      <th>SECTION_2</th>\n",
       "      <th>SECTION_3</th>\n",
       "      <th>SECTION_4</th>\n",
       "      <th>SECTION_5</th>\n",
       "      <th>SECTION_6</th>\n",
       "      <th>SECTION_7</th>\n",
       "      <th>SECTION_8</th>\n",
       "      <th>SECTION_9</th>\n",
       "      <th>SECTION_10</th>\n",
       "      <th>SECTION_11</th>\n",
       "      <th>SECTION_12</th>\n",
       "      <th>SECTION_13</th>\n",
       "      <th>SECTION_14</th>\n",
       "    </tr>\n",
       "  </thead>\n",
       "  <tbody>\n",
       "    <tr>\n",
       "      <th>2743</th>\n",
       "      <td>1</td>\n",
       "      <td>1</td>\n",
       "      <td>1</td>\n",
       "      <td>1</td>\n",
       "      <td>1</td>\n",
       "      <td>1</td>\n",
       "      <td>1</td>\n",
       "      <td>1</td>\n",
       "      <td>1</td>\n",
       "      <td>1</td>\n",
       "      <td>1</td>\n",
       "      <td>1</td>\n",
       "      <td>1</td>\n",
       "      <td>1</td>\n",
       "      <td>1</td>\n",
       "    </tr>\n",
       "    <tr>\n",
       "      <th>2744</th>\n",
       "      <td>1</td>\n",
       "      <td>1</td>\n",
       "      <td>1</td>\n",
       "      <td>1</td>\n",
       "      <td>1</td>\n",
       "      <td>1</td>\n",
       "      <td>1</td>\n",
       "      <td>1</td>\n",
       "      <td>1</td>\n",
       "      <td>1</td>\n",
       "      <td>1</td>\n",
       "      <td>1</td>\n",
       "      <td>1</td>\n",
       "      <td>1</td>\n",
       "      <td>1</td>\n",
       "    </tr>\n",
       "    <tr>\n",
       "      <th>2745</th>\n",
       "      <td>1</td>\n",
       "      <td>1</td>\n",
       "      <td>1</td>\n",
       "      <td>1</td>\n",
       "      <td>1</td>\n",
       "      <td>1</td>\n",
       "      <td>1</td>\n",
       "      <td>1</td>\n",
       "      <td>1</td>\n",
       "      <td>1</td>\n",
       "      <td>1</td>\n",
       "      <td>1</td>\n",
       "      <td>1</td>\n",
       "      <td>1</td>\n",
       "      <td>1</td>\n",
       "    </tr>\n",
       "    <tr>\n",
       "      <th>2746</th>\n",
       "      <td>0</td>\n",
       "      <td>0</td>\n",
       "      <td>3</td>\n",
       "      <td>3</td>\n",
       "      <td>0</td>\n",
       "      <td>0</td>\n",
       "      <td>0</td>\n",
       "      <td>0</td>\n",
       "      <td>0</td>\n",
       "      <td>0</td>\n",
       "      <td>0</td>\n",
       "      <td>0</td>\n",
       "      <td>3</td>\n",
       "      <td>0</td>\n",
       "      <td>0</td>\n",
       "    </tr>\n",
       "    <tr>\n",
       "      <th>2747</th>\n",
       "      <td>1</td>\n",
       "      <td>1</td>\n",
       "      <td>1</td>\n",
       "      <td>1</td>\n",
       "      <td>1</td>\n",
       "      <td>1</td>\n",
       "      <td>1</td>\n",
       "      <td>1</td>\n",
       "      <td>1</td>\n",
       "      <td>1</td>\n",
       "      <td>1</td>\n",
       "      <td>1</td>\n",
       "      <td>1</td>\n",
       "      <td>1</td>\n",
       "      <td>1</td>\n",
       "    </tr>\n",
       "  </tbody>\n",
       "</table>\n",
       "</div>"
      ],
      "text/plain": [
       "      SECTION_0  SECTION_1  SECTION_2  SECTION_3  SECTION_4  SECTION_5  \\\n",
       "2743          1          1          1          1          1          1   \n",
       "2744          1          1          1          1          1          1   \n",
       "2745          1          1          1          1          1          1   \n",
       "2746          0          0          3          3          0          0   \n",
       "2747          1          1          1          1          1          1   \n",
       "\n",
       "      SECTION_6  SECTION_7  SECTION_8  SECTION_9  SECTION_10  SECTION_11  \\\n",
       "2743          1          1          1          1           1           1   \n",
       "2744          1          1          1          1           1           1   \n",
       "2745          1          1          1          1           1           1   \n",
       "2746          0          0          0          0           0           0   \n",
       "2747          1          1          1          1           1           1   \n",
       "\n",
       "      SECTION_12  SECTION_13  SECTION_14  \n",
       "2743           1           1           1  \n",
       "2744           1           1           1  \n",
       "2745           1           1           1  \n",
       "2746           3           0           0  \n",
       "2747           1           1           1  "
      ]
     },
     "execution_count": 13,
     "metadata": {},
     "output_type": "execute_result"
    }
   ],
   "source": [
    "df.tail()"
   ]
  },
  {
   "cell_type": "code",
   "execution_count": 14,
   "metadata": {},
   "outputs": [
    {
     "data": {
      "text/html": [
       "<div>\n",
       "<style scoped>\n",
       "    .dataframe tbody tr th:only-of-type {\n",
       "        vertical-align: middle;\n",
       "    }\n",
       "\n",
       "    .dataframe tbody tr th {\n",
       "        vertical-align: top;\n",
       "    }\n",
       "\n",
       "    .dataframe thead th {\n",
       "        text-align: right;\n",
       "    }\n",
       "</style>\n",
       "<table border=\"1\" class=\"dataframe\">\n",
       "  <thead>\n",
       "    <tr style=\"text-align: right;\">\n",
       "      <th></th>\n",
       "      <th>SECTION</th>\n",
       "    </tr>\n",
       "  </thead>\n",
       "  <tbody>\n",
       "    <tr>\n",
       "      <th>2743</th>\n",
       "      <td>1</td>\n",
       "    </tr>\n",
       "    <tr>\n",
       "      <th>2744</th>\n",
       "      <td>1</td>\n",
       "    </tr>\n",
       "    <tr>\n",
       "      <th>2745</th>\n",
       "      <td>1</td>\n",
       "    </tr>\n",
       "    <tr>\n",
       "      <th>2746</th>\n",
       "      <td>0</td>\n",
       "    </tr>\n",
       "    <tr>\n",
       "      <th>2747</th>\n",
       "      <td>1</td>\n",
       "    </tr>\n",
       "  </tbody>\n",
       "</table>\n",
       "</div>"
      ],
      "text/plain": [
       "      SECTION\n",
       "2743        1\n",
       "2744        1\n",
       "2745        1\n",
       "2746        0\n",
       "2747        1"
      ]
     },
     "execution_count": 14,
     "metadata": {},
     "output_type": "execute_result"
    }
   ],
   "source": [
    "sub = pd.DataFrame()\n",
    "sub['SECTION'] = df.mode(axis=1)[0]\n",
    "sub.tail()"
   ]
  },
  {
   "cell_type": "code",
   "execution_count": 15,
   "metadata": {},
   "outputs": [
    {
     "data": {
      "text/plain": [
       "1    1183\n",
       "2     826\n",
       "0     417\n",
       "3     322\n",
       "Name: SECTION, dtype: int64"
      ]
     },
     "execution_count": 15,
     "metadata": {},
     "output_type": "execute_result"
    }
   ],
   "source": [
    "sub['SECTION'].value_counts()"
   ]
  },
  {
   "cell_type": "code",
   "execution_count": 16,
   "metadata": {},
   "outputs": [
    {
     "data": {
      "text/html": [
       "<a download=\"submission.csv\" href=\"data:text/csv;base64,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\" target=\"_blank\">Download CSV file</a>"
      ],
      "text/plain": [
       "<IPython.core.display.HTML object>"
      ]
     },
     "execution_count": 16,
     "metadata": {},
     "output_type": "execute_result"
    }
   ],
   "source": [
    "from IPython.display import HTML\n",
    "import pandas as pd\n",
    "import numpy as np\n",
    "import base64\n",
    "\n",
    "def create_download_link(df, title = \"Download CSV file\", filename = \"submission.csv\"):  \n",
    "    csv = df.to_csv(index=False)\n",
    "    b64 = base64.b64encode(csv.encode())\n",
    "    payload = b64.decode()\n",
    "    html = '<a download=\"{filename}\" href=\"data:text/csv;base64,{payload}\" target=\"_blank\">{title}</a>'\n",
    "    html = html.format(payload=payload,title=title,filename=filename)\n",
    "    return HTML(html)\n",
    "\n",
    "create_download_link(sub)"
   ]
  },
  {
   "cell_type": "code",
   "execution_count": null,
   "metadata": {},
   "outputs": [],
   "source": []
  }
 ],
 "metadata": {
  "kernelspec": {
   "display_name": "Python 3",
   "language": "python",
   "name": "python3"
  },
  "language_info": {
   "codemirror_mode": {
    "name": "ipython",
    "version": 3
   },
   "file_extension": ".py",
   "mimetype": "text/x-python",
   "name": "python",
   "nbconvert_exporter": "python",
   "pygments_lexer": "ipython3",
   "version": "3.6.6"
  },
  "toc": {
   "base_numbering": 1,
   "nav_menu": {},
   "number_sections": true,
   "sideBar": true,
   "skip_h1_title": false,
   "title_cell": "Table of Contents",
   "title_sidebar": "Contents",
   "toc_cell": false,
   "toc_position": {},
   "toc_section_display": true,
   "toc_window_display": false
  }
 },
 "nbformat": 4,
 "nbformat_minor": 1
}
